{
  "nbformat": 4,
  "nbformat_minor": 0,
  "metadata": {
    "colab": {
      "private_outputs": true,
      "provenance": [],
      "authorship_tag": "ABX9TyPlBrD76PrejC+cK/leM0EI",
      "include_colab_link": true
    },
    "kernelspec": {
      "name": "python3",
      "display_name": "Python 3"
    },
    "language_info": {
      "name": "python"
    }
  },
  "cells": [
    {
      "cell_type": "markdown",
      "metadata": {
        "id": "view-in-github",
        "colab_type": "text"
      },
      "source": [
        "<a href=\"https://colab.research.google.com/github/shahd1995913/-caesar_cipher/blob/main/Gamma.ipynb\" target=\"_parent\"><img src=\"https://colab.research.google.com/assets/colab-badge.svg\" alt=\"Open In Colab\"/></a>"
      ]
    },
    {
      "cell_type": "code",
      "execution_count": null,
      "metadata": {
        "id": "c52nrJ4Hcn_Q"
      },
      "outputs": [],
      "source": [
        "from __future__ import print_function\n",
        "import numpy as np\n",
        "%matplotlib inline\n",
        "from matplotlib import pyplot as plt\n",
        "import argparse\n",
        "import cv2\n",
        "def adjust_gamma(image, gamma=1.0):\n",
        "    invGamma = 1.0 / gamma\n",
        "    table = np.array([((i / 255.0) ** invGamma) * 255\n",
        "        for i in np.arange(0, 256)]).astype(\"uint8\")\n",
        "    return cv2.LUT(image, table)\n",
        "\n",
        "img = cv2.imread('/content/Powdry (13).png')\n",
        "gray1 = cv2.cvtColor(img,cv2.COLOR_BGR2RGB)\n",
        "gammaImg = adjust_gamma(img, .4)\n",
        "plt.imshow(img)\n",
        "plt.imshow(gammaImg)\n",
        "plt.show()\n",
        "cv2.waitKey(0)\n",
        "cv2.destroyAllWindows()"
      ]
    }
  ]
}